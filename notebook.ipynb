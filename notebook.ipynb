{
 "cells": [
  {
   "cell_type": "markdown",
   "id": "fac4298af025d242",
   "metadata": {
    "collapsed": false
   },
   "source": [
    "# **Data Cleaning**"
   ]
  },
  {
   "cell_type": "markdown",
   "id": "98d6ac6a90047e40",
   "metadata": {
    "collapsed": false
   },
   "source": [
    "## Import Packages"
   ]
  },
  {
   "cell_type": "code",
   "execution_count": 49,
   "id": "a3efdc803e86ae9c",
   "metadata": {
    "ExecuteTime": {
     "end_time": "2024-05-07T13:07:07.132658Z",
     "start_time": "2024-05-07T13:07:07.121152Z"
    },
    "collapsed": false
   },
   "outputs": [],
   "source": [
    "# Import packages\n",
    "\n",
    "from bs4 import BeautifulSoup as bs4\n",
    "from selenium import webdriver\n",
    "import time\n",
    "import pandas as pd\n",
    "import numpy as np\n",
    "import scipy\n",
    "import math"
   ]
  },
  {
   "cell_type": "markdown",
   "id": "58b5c1f479393268",
   "metadata": {
    "collapsed": false
   },
   "source": [
    "## Assign driver"
   ]
  },
  {
   "cell_type": "code",
   "execution_count": 4,
   "id": "3b6f403129038d51",
   "metadata": {
    "ExecuteTime": {
     "end_time": "2024-05-07T12:36:01.042405Z",
     "start_time": "2024-05-07T12:35:58.836416Z"
    },
    "collapsed": false
   },
   "outputs": [],
   "source": [
    "driver = webdriver.Chrome() # Driver dibuka di chrome\n",
    "\n",
    "min_page = 10 # Set minimal page"
   ]
  },
  {
   "cell_type": "markdown",
   "id": "f1974c758768aff0",
   "metadata": {
    "collapsed": false
   },
   "source": [
    "## Testing getAttr"
   ]
  },
  {
   "cell_type": "code",
   "execution_count": 5,
   "id": "ab4289725630eaa2",
   "metadata": {
    "ExecuteTime": {
     "end_time": "2024-05-07T12:36:05.246289Z",
     "start_time": "2024-05-07T12:36:01.043406Z"
    },
    "collapsed": false
   },
   "outputs": [
    {
     "name": "stdout",
     "output_type": "stream",
     "text": [
      "Rp51.152\n"
     ]
    }
   ],
   "source": [
    "url = 'https://www.tokopedia.com/search?navsource=&page=1&q=seblak&srp_componeqnt_id=02.01.00.00&srp_page_id=&srp_page_title=&st='\n",
    "driver.get(url)\n",
    "\n",
    "html = driver.page_source\n",
    "\n",
    "# parsing (uraikan)\n",
    "soup = bs4(html, 'html.parser')\n",
    "\n",
    "print(soup.find('div', {'class' : 'prd_link-product-price css-h66vau'}).get_text()) # find div harga terdekat"
   ]
  },
  {
   "cell_type": "markdown",
   "id": "ac0aec29388922d4",
   "metadata": {
    "collapsed": false
   },
   "source": [
    "## Web Scrap Tokopedia"
   ]
  },
  {
   "cell_type": "markdown",
   "id": "c0bf43e58ccc2071",
   "metadata": {
    "collapsed": false
   },
   "source": [
    "1. Membuat list untuk id, produk, harga, seller, kota, jumlah terjual, dan rating produk.\n",
    "2. Mengambil setiap page sampai minimal page yang di-atur, lalu webdriver meng-scroll sampai kebawah agar semua elemen dimuat.\n",
    "2. Memuat web yang masih berantakan dengan page_source, dan diuraikan dengan bs4(html, 'parser')\n",
    "3. For loop untuk setiap row dan box product untuk mengambil informasi produk di setiap box\n",
    "4. Membuat identifier dengan format P{nomer halaman}-R{urutan row}-B{urutan box} dan dimasukkan ke list id\n",
    "5. Mengambil elemen produk, harga, seller, kota, jumlah terjual, dan rating produk dari box produk, dan dimasukkan ke masing - masing list.\n",
    "6. Membuat dataframe dengan semua list menjadi komponennya."
   ]
  },
  {
   "cell_type": "code",
   "execution_count": 6,
   "id": "f22cf326bea4c974",
   "metadata": {
    "ExecuteTime": {
     "end_time": "2024-05-07T12:40:55.129500Z",
     "start_time": "2024-05-07T12:36:05.247496Z"
    },
    "collapsed": false
   },
   "outputs": [
    {
     "name": "stdout",
     "output_type": "stream",
     "text": [
      "Page done | Page: 1 | Produk : 85 | Price : 85 | Seller : 85 | City : 85 | Sell Count : 85 | Rating : 85\n",
      "Page done | Page: 2 | Produk : 170 | Price : 170 | Seller : 170 | City : 170 | Sell Count : 170 | Rating : 170\n",
      "Page done | Page: 3 | Produk : 255 | Price : 255 | Seller : 255 | City : 255 | Sell Count : 255 | Rating : 255\n",
      "Page done | Page: 4 | Produk : 340 | Price : 340 | Seller : 340 | City : 340 | Sell Count : 340 | Rating : 340\n",
      "Page done | Page: 5 | Produk : 425 | Price : 425 | Seller : 425 | City : 425 | Sell Count : 425 | Rating : 425\n",
      "Page done | Page: 6 | Produk : 488 | Price : 488 | Seller : 488 | City : 488 | Sell Count : 488 | Rating : 488\n",
      "Page done | Page: 7 | Produk : 573 | Price : 573 | Seller : 573 | City : 573 | Sell Count : 573 | Rating : 573\n",
      "Page done | Page: 8 | Produk : 653 | Price : 653 | Seller : 653 | City : 653 | Sell Count : 653 | Rating : 653\n",
      "Page done | Page: 9 | Produk : 738 | Price : 738 | Seller : 738 | City : 738 | Sell Count : 738 | Rating : 738\n",
      "Page done | Page: 10 | Produk : 823 | Price : 823 | Seller : 823 | City : 823 | Sell Count : 823 | Rating : 823\n",
      "Page done | Page: 11 | Produk : 908 | Price : 908 | Seller : 908 | City : 908 | Sell Count : 908 | Rating : 908\n",
      "Page done | Page: 12 | Produk : 993 | Price : 993 | Seller : 993 | City : 993 | Sell Count : 993 | Rating : 993\n",
      "Page done | Page: 13 | Produk : 1078 | Price : 1078 | Seller : 1078 | City : 1078 | Sell Count : 1078 | Rating : 1078\n",
      "Page done | Page: 14 | Produk : 1163 | Price : 1163 | Seller : 1163 | City : 1163 | Sell Count : 1163 | Rating : 1163\n",
      "Page done | Page: 15 | Produk : 1248 | Price : 1248 | Seller : 1248 | City : 1248 | Sell Count : 1248 | Rating : 1248\n"
     ]
    }
   ],
   "source": [
    "id = []         # Melihat page ke-berapa\n",
    "product = []    # Nama produk\n",
    "price = []      # Harga produk\n",
    "seller = []     # Penjual\n",
    "city = []       # Kota penjual\n",
    "sellcount = []  # Banyaknya terjual\n",
    "rating = []     # Rating produk\n",
    "\n",
    "min_page = 15 # Minimal page\n",
    "\n",
    "for page in range(1, min_page + 1):\n",
    "    \n",
    "    # Load url untuk tiap page\n",
    "    url = f'https://www.tokopedia.com/search?navsource=&page={page}&q=seblak&srp_component_id=02.01.00.00&srp_page_id=&srp_page_title=&st='\n",
    "    driver.get(url)\n",
    "    \n",
    "    # Webdriver scroller\n",
    "    y = 500\n",
    "    for timer in range(0,17):\n",
    "        driver.execute_script(\"window.scrollTo(0, \"+str(y)+\")\")\n",
    "        y += 500  \n",
    "        time.sleep(1)\n",
    "        \n",
    "    html = driver.page_source\n",
    "    soup = bs4(html, 'html.parser') # parsing (uraikan)\n",
    "    \n",
    "    search_area = soup.find('div', {'data-testid' : 'divSRPContentProducts'})\n",
    "    rows = search_area.find_all('div', {'class' : 'css-jza1fo'}) # For loop untuk setiap row\n",
    "    \n",
    "    unloaded = search_area.find_all('div', {'class' : 'position:relative'})\n",
    "    # print(f\"Number of rows: {len(rows)}\")\n",
    "    for row in rows:\n",
    "        boxes = row.find_all('div', {'class' : 'pcv3__container css-1izdl9e'})\n",
    "        # print(f\"Number of boxes : {len(boxes)}\")\n",
    "        \n",
    "        for infobox in boxes:\n",
    "            \n",
    "            # infobox = box.find('a', {'class' : 'pcv3__info-content'})\n",
    "            \n",
    "            id.append(f\"P{page}-R{rows.index(row) + 1}-B{boxes.index(infobox) + 1}\") # identifier berdasarkan page, row & box\n",
    "            \n",
    "            # Kolom nama\n",
    "            try:\n",
    "                name = infobox.find('div', {'class' : 'prd_link-product-name css-3um8ox'})\n",
    "                product.append(name.get_text().replace(', ', ' - ').replace(',', ' - '))\n",
    "            except:\n",
    "                product.append(None)\n",
    "            \n",
    "            # Kolom harga\n",
    "            try:\n",
    "                prc  = infobox.find('div', {'class' : 'prd_link-product-price css-h66vau'})\n",
    "                price.append(float(prc.get_text().replace('Rp', '').replace('.', '')))\n",
    "            except:\n",
    "                price.append(None)\n",
    "            \n",
    "            # Kolom penjual\n",
    "            try:\n",
    "                ppl  = infobox.find('span', {'class' : 'prd_link-shop-name css-1kdc32b flip'})\n",
    "                seller.append(ppl.get_text())\n",
    "            except:\n",
    "                seller.append('Dilayani Tokopedia')\n",
    "            \n",
    "            # Kolom kota penjual\n",
    "            try:\n",
    "                loc  = infobox.find('span', {'class' : 'prd_link-shop-loc'})\n",
    "                city.append(loc.get_text())\n",
    "            except:\n",
    "                city.append(None)\n",
    "            \n",
    "            # Kolom kota penjual\n",
    "            try:\n",
    "                sc   = infobox.find('span', {'class' : 'prd_label-integrity'})\n",
    "                sellcount.append(int(sc.get_text().replace(' terjual', '').replace('+', '').replace('rb', '000')))\n",
    "            except:\n",
    "                sellcount.append(None)\n",
    "            \n",
    "            # Kolom rating produk\n",
    "            try:\n",
    "                rate = infobox.find('span', {'class' : 'prd_rating-average-text'})\n",
    "                rating.append(float(rate.get_text()))\n",
    "            except:\n",
    "                rating.append(None)\n",
    "                \n",
    "    # Print console page selesai di scrap, dengan menampilkan length setiap list yang di-scrap\n",
    "    print(f\"Page done | Page: {page} | Produk : {len(product)} | Price : {len(price)} | Seller : {len(seller)} | City : {len(city)} | Sell Count : {len(sellcount)} | Rating : {len(rating)}\") \n",
    "    \n",
    "\n",
    "df = pd.DataFrame()\n",
    "\n",
    "df['ID'] = id\n",
    "df['Product'] = product\n",
    "df['Price'] = price\n",
    "df['Seller'] = seller\n",
    "df['City'] = city\n",
    "df['Sell Count'] = sellcount\n",
    "df['Rating'] = rating"
   ]
  },
  {
   "cell_type": "code",
   "execution_count": 20,
   "id": "4d8ced70a481308e",
   "metadata": {
    "ExecuteTime": {
     "end_time": "2024-05-07T12:47:07.423414Z",
     "start_time": "2024-05-07T12:47:07.411497Z"
    },
    "collapsed": false
   },
   "outputs": [
    {
     "name": "stdout",
     "output_type": "stream",
     "text": [
      "<class 'pandas.core.frame.DataFrame'>\n",
      "Index: 1129 entries, 0 to 1247\n",
      "Data columns (total 7 columns):\n",
      " #   Column      Non-Null Count  Dtype  \n",
      "---  ------      --------------  -----  \n",
      " 0   ID          1129 non-null   object \n",
      " 1   Product     1129 non-null   object \n",
      " 2   Price       1129 non-null   float64\n",
      " 3   Seller      1129 non-null   object \n",
      " 4   City        1129 non-null   object \n",
      " 5   Sell Count  1129 non-null   float64\n",
      " 6   Rating      1129 non-null   float64\n",
      "dtypes: float64(3), object(4)\n",
      "memory usage: 70.6+ KB\n"
     ]
    }
   ],
   "source": [
    "df.info()"
   ]
  },
  {
   "cell_type": "code",
   "execution_count": 21,
   "id": "dd6973d644833d0f",
   "metadata": {
    "ExecuteTime": {
     "end_time": "2024-05-07T12:47:09.923395Z",
     "start_time": "2024-05-07T12:47:09.900484Z"
    },
    "collapsed": false
   },
   "outputs": [
    {
     "data": {
      "text/html": [
       "<div>\n",
       "<style scoped>\n",
       "    .dataframe tbody tr th:only-of-type {\n",
       "        vertical-align: middle;\n",
       "    }\n",
       "\n",
       "    .dataframe tbody tr th {\n",
       "        vertical-align: top;\n",
       "    }\n",
       "\n",
       "    .dataframe thead th {\n",
       "        text-align: right;\n",
       "    }\n",
       "</style>\n",
       "<table border=\"1\" class=\"dataframe\">\n",
       "  <thead>\n",
       "    <tr style=\"text-align: right;\">\n",
       "      <th></th>\n",
       "      <th>ID</th>\n",
       "      <th>Product</th>\n",
       "      <th>Price</th>\n",
       "      <th>Seller</th>\n",
       "      <th>City</th>\n",
       "      <th>Sell Count</th>\n",
       "      <th>Rating</th>\n",
       "    </tr>\n",
       "  </thead>\n",
       "  <tbody>\n",
       "    <tr>\n",
       "      <th>0</th>\n",
       "      <td>P1-R1-B1</td>\n",
       "      <td>Kylafood Seblak Original</td>\n",
       "      <td>21375.0</td>\n",
       "      <td>kylafood</td>\n",
       "      <td>Bandung</td>\n",
       "      <td>10000.0</td>\n",
       "      <td>4.9</td>\n",
       "    </tr>\n",
       "    <tr>\n",
       "      <th>1</th>\n",
       "      <td>P1-R1-B2</td>\n",
       "      <td>Seblak Rafael/Seblak Coet Instan Halal</td>\n",
       "      <td>26600.0</td>\n",
       "      <td>Foodstocks</td>\n",
       "      <td>Jakarta Selatan</td>\n",
       "      <td>100.0</td>\n",
       "      <td>5.0</td>\n",
       "    </tr>\n",
       "    <tr>\n",
       "      <th>2</th>\n",
       "      <td>P1-R1-B3</td>\n",
       "      <td>Seblak Instan Ceu Nthien Khas Bandung Rasana N...</td>\n",
       "      <td>17000.0</td>\n",
       "      <td>Central Seblak Nusantara</td>\n",
       "      <td>Tangerang Selatan</td>\n",
       "      <td>2000.0</td>\n",
       "      <td>4.9</td>\n",
       "    </tr>\n",
       "    <tr>\n",
       "      <th>3</th>\n",
       "      <td>P1-R1-B4</td>\n",
       "      <td>KERUPUK SEBLAK MENTAH 1KG WARNA WARNI - Mawar ...</td>\n",
       "      <td>26500.0</td>\n",
       "      <td>BociKakang</td>\n",
       "      <td>Jakarta Selatan</td>\n",
       "      <td>250.0</td>\n",
       "      <td>5.0</td>\n",
       "    </tr>\n",
       "    <tr>\n",
       "      <th>4</th>\n",
       "      <td>P1-R1-B5</td>\n",
       "      <td>KERUPUK MENTAH KERUPUK SEBLAK MENTAH 500 GR - ...</td>\n",
       "      <td>14500.0</td>\n",
       "      <td>BociKakang</td>\n",
       "      <td>Jakarta Selatan</td>\n",
       "      <td>100.0</td>\n",
       "      <td>4.9</td>\n",
       "    </tr>\n",
       "    <tr>\n",
       "      <th>5</th>\n",
       "      <td>P1-R1-B6</td>\n",
       "      <td>Seblak Instan Pedas Home Made</td>\n",
       "      <td>3500.0</td>\n",
       "      <td>the Dhecip</td>\n",
       "      <td>Tangerang Selatan</td>\n",
       "      <td>3000.0</td>\n",
       "      <td>4.9</td>\n",
       "    </tr>\n",
       "    <tr>\n",
       "      <th>6</th>\n",
       "      <td>P1-R1-B7</td>\n",
       "      <td>SEBLAK INSTANT TERMURAH</td>\n",
       "      <td>4450.0</td>\n",
       "      <td>Pusat Cuankie &amp; Cemilan Frozen</td>\n",
       "      <td>Jakarta Timur</td>\n",
       "      <td>10000.0</td>\n",
       "      <td>4.8</td>\n",
       "    </tr>\n",
       "    <tr>\n",
       "      <th>7</th>\n",
       "      <td>P1-R1-B8</td>\n",
       "      <td>Seblak Rafael - Seblak Coet Instan Halal</td>\n",
       "      <td>25000.0</td>\n",
       "      <td>Brother Meat Shop</td>\n",
       "      <td>Depok</td>\n",
       "      <td>500.0</td>\n",
       "      <td>5.0</td>\n",
       "    </tr>\n",
       "    <tr>\n",
       "      <th>8</th>\n",
       "      <td>P1-R1-B9</td>\n",
       "      <td>Prabu Snack Kerupuk Seblak Snack 150 gram</td>\n",
       "      <td>9500.0</td>\n",
       "      <td>Dilayani Tokopedia</td>\n",
       "      <td>Jakarta Barat</td>\n",
       "      <td>100.0</td>\n",
       "      <td>4.9</td>\n",
       "    </tr>\n",
       "    <tr>\n",
       "      <th>9</th>\n",
       "      <td>P1-R1-B10</td>\n",
       "      <td>Kylafood Seblak Rempah Autentik</td>\n",
       "      <td>12500.0</td>\n",
       "      <td>Kylafood Jakarta</td>\n",
       "      <td>Jakarta Selatan</td>\n",
       "      <td>100.0</td>\n",
       "      <td>5.0</td>\n",
       "    </tr>\n",
       "    <tr>\n",
       "      <th>10</th>\n",
       "      <td>P1-R2-B1</td>\n",
       "      <td>SEBLAK INSTAN MOMMY</td>\n",
       "      <td>13900.0</td>\n",
       "      <td>Rav Jaya Display</td>\n",
       "      <td>Kab. Tangerang</td>\n",
       "      <td>1000.0</td>\n",
       "      <td>4.8</td>\n",
       "    </tr>\n",
       "    <tr>\n",
       "      <th>11</th>\n",
       "      <td>P1-R2-B2</td>\n",
       "      <td>KERUPUK BAWANG ANEKA WARNA KRUPUK SEBLAK MENTA...</td>\n",
       "      <td>14500.0</td>\n",
       "      <td>BociKakang</td>\n",
       "      <td>Jakarta Selatan</td>\n",
       "      <td>250.0</td>\n",
       "      <td>4.8</td>\n",
       "    </tr>\n",
       "    <tr>\n",
       "      <th>12</th>\n",
       "      <td>P1-R2-B3</td>\n",
       "      <td>Kylafood Paket ( Seblak Original - Batagor - C...</td>\n",
       "      <td>86130.0</td>\n",
       "      <td>kylafood</td>\n",
       "      <td>Bandung</td>\n",
       "      <td>750.0</td>\n",
       "      <td>4.9</td>\n",
       "    </tr>\n",
       "    <tr>\n",
       "      <th>13</th>\n",
       "      <td>P1-R2-B4</td>\n",
       "      <td>KERUPUK SEBLAK MENTAH ANEKA WARNA - Mawar Warn...</td>\n",
       "      <td>11500.0</td>\n",
       "      <td>jajanangarut19</td>\n",
       "      <td>Jakarta Selatan</td>\n",
       "      <td>250.0</td>\n",
       "      <td>4.8</td>\n",
       "    </tr>\n",
       "    <tr>\n",
       "      <th>14</th>\n",
       "      <td>P1-R2-B5</td>\n",
       "      <td>SEBLAK INSTANT PEDAS JERUK</td>\n",
       "      <td>10000.0</td>\n",
       "      <td>ICIP ICIP SNACK BANDUNG</td>\n",
       "      <td>Bandung</td>\n",
       "      <td>24.0</td>\n",
       "      <td>5.0</td>\n",
       "    </tr>\n",
       "    <tr>\n",
       "      <th>15</th>\n",
       "      <td>P1-R3-B1</td>\n",
       "      <td>Muria Seblak Stik Cabe Merah Snack 60 gram</td>\n",
       "      <td>5015.0</td>\n",
       "      <td>Dilayani Tokopedia</td>\n",
       "      <td>Jakarta Barat</td>\n",
       "      <td>250.0</td>\n",
       "      <td>4.9</td>\n",
       "    </tr>\n",
       "    <tr>\n",
       "      <th>16</th>\n",
       "      <td>P1-R3-B2</td>\n",
       "      <td>Seblak pedas kerupuk pedas kiloan 1 kg</td>\n",
       "      <td>35000.0</td>\n",
       "      <td>RIKI STORE 97</td>\n",
       "      <td>Kab. Bogor</td>\n",
       "      <td>100.0</td>\n",
       "      <td>4.6</td>\n",
       "    </tr>\n",
       "    <tr>\n",
       "      <th>17</th>\n",
       "      <td>P1-R3-B3</td>\n",
       "      <td>seblak instant sajodo snak</td>\n",
       "      <td>19000.0</td>\n",
       "      <td>hikmah berkah jaya</td>\n",
       "      <td>Jakarta Barat</td>\n",
       "      <td>750.0</td>\n",
       "      <td>4.8</td>\n",
       "    </tr>\n",
       "    <tr>\n",
       "      <th>18</th>\n",
       "      <td>P1-R3-B4</td>\n",
       "      <td>Krupuk seblak mawar rafael pedas 500gr</td>\n",
       "      <td>23500.0</td>\n",
       "      <td>Markas Makaroni</td>\n",
       "      <td>Kab. Bekasi</td>\n",
       "      <td>100.0</td>\n",
       "      <td>4.9</td>\n",
       "    </tr>\n",
       "    <tr>\n",
       "      <th>19</th>\n",
       "      <td>P1-R3-B5</td>\n",
       "      <td>KERUPUK JABLAY/KERUPUK SEBLAK RASA PEDAS BERAT...</td>\n",
       "      <td>12500.0</td>\n",
       "      <td>aurel prima snack</td>\n",
       "      <td>Jakarta Barat</td>\n",
       "      <td>40.0</td>\n",
       "      <td>4.9</td>\n",
       "    </tr>\n",
       "  </tbody>\n",
       "</table>\n",
       "</div>"
      ],
      "text/plain": [
       "           ID                                            Product    Price  \\\n",
       "0    P1-R1-B1                           Kylafood Seblak Original  21375.0   \n",
       "1    P1-R1-B2             Seblak Rafael/Seblak Coet Instan Halal  26600.0   \n",
       "2    P1-R1-B3  Seblak Instan Ceu Nthien Khas Bandung Rasana N...  17000.0   \n",
       "3    P1-R1-B4  KERUPUK SEBLAK MENTAH 1KG WARNA WARNI - Mawar ...  26500.0   \n",
       "4    P1-R1-B5  KERUPUK MENTAH KERUPUK SEBLAK MENTAH 500 GR - ...  14500.0   \n",
       "5    P1-R1-B6                      Seblak Instan Pedas Home Made   3500.0   \n",
       "6    P1-R1-B7                            SEBLAK INSTANT TERMURAH   4450.0   \n",
       "7    P1-R1-B8           Seblak Rafael - Seblak Coet Instan Halal  25000.0   \n",
       "8    P1-R1-B9          Prabu Snack Kerupuk Seblak Snack 150 gram   9500.0   \n",
       "9   P1-R1-B10                    Kylafood Seblak Rempah Autentik  12500.0   \n",
       "10   P1-R2-B1                                SEBLAK INSTAN MOMMY  13900.0   \n",
       "11   P1-R2-B2  KERUPUK BAWANG ANEKA WARNA KRUPUK SEBLAK MENTA...  14500.0   \n",
       "12   P1-R2-B3  Kylafood Paket ( Seblak Original - Batagor - C...  86130.0   \n",
       "13   P1-R2-B4  KERUPUK SEBLAK MENTAH ANEKA WARNA - Mawar Warn...  11500.0   \n",
       "14   P1-R2-B5                         SEBLAK INSTANT PEDAS JERUK  10000.0   \n",
       "15   P1-R3-B1         Muria Seblak Stik Cabe Merah Snack 60 gram   5015.0   \n",
       "16   P1-R3-B2             Seblak pedas kerupuk pedas kiloan 1 kg  35000.0   \n",
       "17   P1-R3-B3                         seblak instant sajodo snak  19000.0   \n",
       "18   P1-R3-B4             Krupuk seblak mawar rafael pedas 500gr  23500.0   \n",
       "19   P1-R3-B5  KERUPUK JABLAY/KERUPUK SEBLAK RASA PEDAS BERAT...  12500.0   \n",
       "\n",
       "                            Seller               City  Sell Count  Rating  \n",
       "0                         kylafood            Bandung     10000.0     4.9  \n",
       "1                       Foodstocks    Jakarta Selatan       100.0     5.0  \n",
       "2         Central Seblak Nusantara  Tangerang Selatan      2000.0     4.9  \n",
       "3                       BociKakang    Jakarta Selatan       250.0     5.0  \n",
       "4                       BociKakang    Jakarta Selatan       100.0     4.9  \n",
       "5                       the Dhecip  Tangerang Selatan      3000.0     4.9  \n",
       "6   Pusat Cuankie & Cemilan Frozen      Jakarta Timur     10000.0     4.8  \n",
       "7                Brother Meat Shop              Depok       500.0     5.0  \n",
       "8               Dilayani Tokopedia      Jakarta Barat       100.0     4.9  \n",
       "9                 Kylafood Jakarta    Jakarta Selatan       100.0     5.0  \n",
       "10                Rav Jaya Display     Kab. Tangerang      1000.0     4.8  \n",
       "11                      BociKakang    Jakarta Selatan       250.0     4.8  \n",
       "12                        kylafood            Bandung       750.0     4.9  \n",
       "13                  jajanangarut19    Jakarta Selatan       250.0     4.8  \n",
       "14         ICIP ICIP SNACK BANDUNG            Bandung        24.0     5.0  \n",
       "15              Dilayani Tokopedia      Jakarta Barat       250.0     4.9  \n",
       "16                   RIKI STORE 97         Kab. Bogor       100.0     4.6  \n",
       "17              hikmah berkah jaya      Jakarta Barat       750.0     4.8  \n",
       "18                 Markas Makaroni        Kab. Bekasi       100.0     4.9  \n",
       "19               aurel prima snack      Jakarta Barat        40.0     4.9  "
      ]
     },
     "execution_count": 21,
     "metadata": {},
     "output_type": "execute_result"
    }
   ],
   "source": [
    "df.head(20)"
   ]
  },
  {
   "cell_type": "code",
   "execution_count": 22,
   "id": "f82146a675bb5f5c",
   "metadata": {
    "ExecuteTime": {
     "end_time": "2024-05-07T12:47:13.066460Z",
     "start_time": "2024-05-07T12:47:13.051161Z"
    },
    "collapsed": false
   },
   "outputs": [
    {
     "data": {
      "text/plain": [
       "array(['Bandung', 'Jakarta Selatan', 'Tangerang Selatan', 'Jakarta Timur',\n",
       "       'Depok', 'Jakarta Barat', 'Kab. Tangerang', 'Kab. Bogor',\n",
       "       'Kab. Bekasi', 'Kab. Bandung', 'Magelang', 'Kab. Garut',\n",
       "       'Surabaya', 'Jakarta Pusat', 'Tangerang', 'Bekasi', 'Luar kota',\n",
       "       'Kab. Tasikmalaya', 'Cimahi', 'Tasikmalaya', 'Kab. Sidoarjo',\n",
       "       'Kab. Majalengka', 'Kab.Ciamis', 'Kab. Indramayu', 'Jakarta Utara',\n",
       "       'Bogor', 'Surakarta', 'Malang', 'Kab. Cianjur', 'Kab. Klaten',\n",
       "       'Sukabumi', 'Kab. Bandung Barat', 'Kab. Cirebon', 'Semarang',\n",
       "       'Kediri', 'Kab. Bantul', 'Banjarbaru', 'Bandar Lampung',\n",
       "       'Kab. Gresik', 'Makassar', 'Kab. Malang', 'Palembang',\n",
       "       'Kab. Mojokerto', 'Pekanbaru', 'Kab. Jember', 'Kab. Sukabumi',\n",
       "       'Kab. Madiun', 'Medan', 'Kab. Sumedang', 'Kab. Kebumen', 'Cirebon',\n",
       "       'Kab. Boyolali', 'Kab. Purwakarta', 'Kab. Magelang',\n",
       "       'Kab. Jombang', 'Kab. Tegal', 'Kab. Sleman', 'Banjar', 'Serang',\n",
       "       'Kab. Kediri', 'Samarinda'], dtype=object)"
      ]
     },
     "execution_count": 22,
     "metadata": {},
     "output_type": "execute_result"
    }
   ],
   "source": [
    "df['City'].unique()"
   ]
  },
  {
   "cell_type": "code",
   "execution_count": 23,
   "id": "99a6a1741b790c09",
   "metadata": {
    "ExecuteTime": {
     "end_time": "2024-05-07T12:47:13.785144Z",
     "start_time": "2024-05-07T12:47:13.765829Z"
    },
    "collapsed": false
   },
   "outputs": [
    {
     "data": {
      "text/plain": [
       "0       10000.0\n",
       "1         100.0\n",
       "2        2000.0\n",
       "3         250.0\n",
       "4         100.0\n",
       "         ...   \n",
       "1241      250.0\n",
       "1242        6.0\n",
       "1244      750.0\n",
       "1246     1000.0\n",
       "1247       70.0\n",
       "Name: Sell Count, Length: 1129, dtype: float64"
      ]
     },
     "execution_count": 23,
     "metadata": {},
     "output_type": "execute_result"
    }
   ],
   "source": [
    "# Mengisi cell null di sellcount dengan 0.0\n",
    "df['Sell Count'].fillna(0.0)"
   ]
  },
  {
   "cell_type": "code",
   "execution_count": 24,
   "id": "26159aae4f4b4831",
   "metadata": {
    "ExecuteTime": {
     "end_time": "2024-05-07T12:47:14.925205Z",
     "start_time": "2024-05-07T12:47:14.910217Z"
    },
    "collapsed": false
   },
   "outputs": [
    {
     "name": "stdout",
     "output_type": "stream",
     "text": [
      "<class 'pandas.core.frame.DataFrame'>\n",
      "Index: 1129 entries, 0 to 1247\n",
      "Data columns (total 7 columns):\n",
      " #   Column      Non-Null Count  Dtype  \n",
      "---  ------      --------------  -----  \n",
      " 0   ID          1129 non-null   object \n",
      " 1   Product     1129 non-null   object \n",
      " 2   Price       1129 non-null   float64\n",
      " 3   Seller      1129 non-null   object \n",
      " 4   City        1129 non-null   object \n",
      " 5   Sell Count  1129 non-null   float64\n",
      " 6   Rating      1129 non-null   float64\n",
      "dtypes: float64(3), object(4)\n",
      "memory usage: 70.6+ KB\n"
     ]
    }
   ],
   "source": [
    "df.dropna(axis = 0, how = 'any', inplace = True) # Dropna di rating\n",
    "df.info() # Melihat info column setelah dropna"
   ]
  },
  {
   "cell_type": "markdown",
   "id": "9e45de63c2cf4687",
   "metadata": {
    "collapsed": false
   },
   "source": [
    "# **Data Preparation**"
   ]
  },
  {
   "cell_type": "code",
   "execution_count": 25,
   "id": "46db2d1f712eeff",
   "metadata": {
    "ExecuteTime": {
     "end_time": "2024-05-07T12:47:19.491108Z",
     "start_time": "2024-05-07T12:47:19.470271Z"
    },
    "collapsed": false
   },
   "outputs": [
    {
     "name": "stdout",
     "output_type": "stream",
     "text": [
      "<class 'pandas.core.frame.DataFrame'>\n",
      "Index: 1129 entries, 0 to 1247\n",
      "Data columns (total 7 columns):\n",
      " #   Column      Non-Null Count  Dtype  \n",
      "---  ------      --------------  -----  \n",
      " 0   ID          1129 non-null   object \n",
      " 1   Product     1129 non-null   object \n",
      " 2   Price       1129 non-null   float64\n",
      " 3   Seller      1129 non-null   object \n",
      " 4   City        1129 non-null   object \n",
      " 5   Sell Count  1129 non-null   float64\n",
      " 6   Rating      1129 non-null   float64\n",
      "dtypes: float64(3), object(4)\n",
      "memory usage: 70.6+ KB\n"
     ]
    }
   ],
   "source": [
    "df.info() # Melihat info kolom setelah di-cleaning"
   ]
  },
  {
   "cell_type": "markdown",
   "id": "7524d6cb637f7d6e",
   "metadata": {
    "collapsed": false
   },
   "source": [
    "Karena format dan tipe tiap kolom sudah benar, maka hanya perlu mengubah cell 'Dilayani Tokopedia' di kolom City menjadi 'Luar kota'."
   ]
  },
  {
   "cell_type": "code",
   "execution_count": 26,
   "id": "5e893ca771f96fd7",
   "metadata": {
    "ExecuteTime": {
     "end_time": "2024-05-07T12:47:22.358388Z",
     "start_time": "2024-05-07T12:47:22.345701Z"
    },
    "collapsed": false
   },
   "outputs": [],
   "source": [
    "# Data backup\n",
    "\n",
    "df_backup = df"
   ]
  },
  {
   "cell_type": "code",
   "execution_count": 27,
   "id": "c3844425358fed56",
   "metadata": {
    "ExecuteTime": {
     "end_time": "2024-05-07T12:47:23.150412Z",
     "start_time": "2024-05-07T12:47:23.137862Z"
    },
    "collapsed": false
   },
   "outputs": [
    {
     "data": {
      "text/plain": [
       "array(['Bandung', 'Jakarta Selatan', 'Tangerang Selatan', 'Jakarta Timur',\n",
       "       'Depok', 'Jakarta Barat', 'Kab. Tangerang', 'Kab. Bogor',\n",
       "       'Kab. Bekasi', 'Kab. Bandung', 'Magelang', 'Kab. Garut',\n",
       "       'Surabaya', 'Jakarta Pusat', 'Tangerang', 'Bekasi', 'Luar kota',\n",
       "       'Kab. Tasikmalaya', 'Cimahi', 'Tasikmalaya', 'Kab. Sidoarjo',\n",
       "       'Kab. Majalengka', 'Kab.Ciamis', 'Kab. Indramayu', 'Jakarta Utara',\n",
       "       'Bogor', 'Surakarta', 'Malang', 'Kab. Cianjur', 'Kab. Klaten',\n",
       "       'Sukabumi', 'Kab. Bandung Barat', 'Kab. Cirebon', 'Semarang',\n",
       "       'Kediri', 'Kab. Bantul', 'Banjarbaru', 'Bandar Lampung',\n",
       "       'Kab. Gresik', 'Makassar', 'Kab. Malang', 'Palembang',\n",
       "       'Kab. Mojokerto', 'Pekanbaru', 'Kab. Jember', 'Kab. Sukabumi',\n",
       "       'Kab. Madiun', 'Medan', 'Kab. Sumedang', 'Kab. Kebumen', 'Cirebon',\n",
       "       'Kab. Boyolali', 'Kab. Purwakarta', 'Kab. Magelang',\n",
       "       'Kab. Jombang', 'Kab. Tegal', 'Kab. Sleman', 'Banjar', 'Serang',\n",
       "       'Kab. Kediri', 'Samarinda'], dtype=object)"
      ]
     },
     "execution_count": 27,
     "metadata": {},
     "output_type": "execute_result"
    }
   ],
   "source": [
    "# np.where untuk if-statement kalau cell = 'Dilayani Tokopedia' maka diganti menjadi 'Luar kota'\n",
    "df['City'] = np.where(df['City'] == 'Dilayani Tokopedia', 'Luar kota', df['City'])\n",
    "df['City'].unique()"
   ]
  },
  {
   "cell_type": "markdown",
   "id": "4ecc81c4850c4091",
   "metadata": {
    "collapsed": false
   },
   "source": [
    "# **Business Understanding/Problem Statement**"
   ]
  },
  {
   "cell_type": "markdown",
   "id": "e4a84109be5fcfdd",
   "metadata": {
    "collapsed": false
   },
   "source": [
    "## Metode SMART\n",
    "\n",
    "**S | Specific**\n",
    "* Berhasil menjual produk seblak di Tokopedia\n",
    "\n",
    "**M | Measurable**\n",
    "* Jumlah terjual produk seller >= Jumlah terjual 50% populasi\n",
    "\n",
    "**A | Achievable**\n",
    "* Harga jual produk berada dalam range rata - rata harga produk, dan memiliki harga yang masuk akal\n",
    "\n",
    "**R | Relevant**\n",
    "* Semakin tinggi seblak terbeli, maka semakin tinggi pula profit yang diterima.\n",
    "\n",
    "**T | Timebound Goals**\n",
    "* Harus tercapai dalam kurun waktu 6 bulan."
   ]
  },
  {
   "cell_type": "markdown",
   "id": "c1ca4eaa81be259c",
   "metadata": {
    "collapsed": false
   },
   "source": [
    "# **Analysis**"
   ]
  },
  {
   "cell_type": "code",
   "execution_count": 13,
   "id": "5c1df664869191c",
   "metadata": {
    "ExecuteTime": {
     "end_time": "2024-05-07T12:40:55.285313Z",
     "start_time": "2024-05-07T12:40:55.270358Z"
    },
    "collapsed": false
   },
   "outputs": [
    {
     "data": {
      "text/html": [
       "<div>\n",
       "<style scoped>\n",
       "    .dataframe tbody tr th:only-of-type {\n",
       "        vertical-align: middle;\n",
       "    }\n",
       "\n",
       "    .dataframe tbody tr th {\n",
       "        vertical-align: top;\n",
       "    }\n",
       "\n",
       "    .dataframe thead th {\n",
       "        text-align: right;\n",
       "    }\n",
       "</style>\n",
       "<table border=\"1\" class=\"dataframe\">\n",
       "  <thead>\n",
       "    <tr style=\"text-align: right;\">\n",
       "      <th></th>\n",
       "      <th>Price</th>\n",
       "      <th>Sell Count</th>\n",
       "      <th>Rating</th>\n",
       "    </tr>\n",
       "  </thead>\n",
       "  <tbody>\n",
       "    <tr>\n",
       "      <th>count</th>\n",
       "      <td>1129.000000</td>\n",
       "      <td>1129.000000</td>\n",
       "      <td>1129.000000</td>\n",
       "    </tr>\n",
       "    <tr>\n",
       "      <th>mean</th>\n",
       "      <td>22298.445527</td>\n",
       "      <td>369.471213</td>\n",
       "      <td>4.881311</td>\n",
       "    </tr>\n",
       "    <tr>\n",
       "      <th>std</th>\n",
       "      <td>24397.007246</td>\n",
       "      <td>1089.674614</td>\n",
       "      <td>0.171910</td>\n",
       "    </tr>\n",
       "    <tr>\n",
       "      <th>min</th>\n",
       "      <td>400.000000</td>\n",
       "      <td>1.000000</td>\n",
       "      <td>3.000000</td>\n",
       "    </tr>\n",
       "    <tr>\n",
       "      <th>25%</th>\n",
       "      <td>8800.000000</td>\n",
       "      <td>23.000000</td>\n",
       "      <td>4.800000</td>\n",
       "    </tr>\n",
       "    <tr>\n",
       "      <th>50%</th>\n",
       "      <td>15000.000000</td>\n",
       "      <td>70.000000</td>\n",
       "      <td>4.900000</td>\n",
       "    </tr>\n",
       "    <tr>\n",
       "      <th>75%</th>\n",
       "      <td>25000.000000</td>\n",
       "      <td>250.000000</td>\n",
       "      <td>5.000000</td>\n",
       "    </tr>\n",
       "    <tr>\n",
       "      <th>max</th>\n",
       "      <td>210000.000000</td>\n",
       "      <td>10000.000000</td>\n",
       "      <td>5.000000</td>\n",
       "    </tr>\n",
       "  </tbody>\n",
       "</table>\n",
       "</div>"
      ],
      "text/plain": [
       "               Price    Sell Count       Rating\n",
       "count    1129.000000   1129.000000  1129.000000\n",
       "mean    22298.445527    369.471213     4.881311\n",
       "std     24397.007246   1089.674614     0.171910\n",
       "min       400.000000      1.000000     3.000000\n",
       "25%      8800.000000     23.000000     4.800000\n",
       "50%     15000.000000     70.000000     4.900000\n",
       "75%     25000.000000    250.000000     5.000000\n",
       "max    210000.000000  10000.000000     5.000000"
      ]
     },
     "execution_count": 13,
     "metadata": {},
     "output_type": "execute_result"
    }
   ],
   "source": [
    "df.describe()"
   ]
  },
  {
   "cell_type": "code",
   "execution_count": 69,
   "id": "ad3cf1285abb71d2",
   "metadata": {
    "ExecuteTime": {
     "end_time": "2024-05-07T13:51:19.728835Z",
     "start_time": "2024-05-07T13:51:19.711093Z"
    },
    "collapsed": false
   },
   "outputs": [
    {
     "data": {
      "text/plain": [
       "8800.0"
      ]
     },
     "execution_count": 69,
     "metadata": {},
     "output_type": "execute_result"
    }
   ],
   "source": [
    "a = df['Price'].sort_values(ascending=True).to_numpy()\n",
    "np.quantile(a, 0.25)"
   ]
  },
  {
   "cell_type": "code",
   "execution_count": 76,
   "id": "eb00d516b39e2d54",
   "metadata": {
    "ExecuteTime": {
     "end_time": "2024-05-07T13:59:20.662695Z",
     "start_time": "2024-05-07T13:59:20.650149Z"
    },
    "collapsed": false
   },
   "outputs": [],
   "source": [
    "price_dist = df['Price'].sort_values(ascending=True).to_numpy()\n",
    "sc_dist = df['Sell Count'].sort_values(ascending=True).to_numpy()\n",
    "rate_dist = df['Rating'].sort_values(ascending=True).to_numpy()\n",
    "\n",
    "prc_lst = []\n",
    "sc_lst = []\n",
    "rate_lst = []\n",
    "\n",
    "lists = [prc_lst, sc_lst, rate_lst]\n",
    "dists = [price_dist, sc_dist, rate_dist]\n",
    "\n",
    "n = -1\n",
    "\n",
    "for dst in dists:\n",
    "    n += 1\n",
    "    lists[n].append(dst.mean().round(2))                                                            # Mean                     0\n",
    "    lists[n].append(np.median(dst).round(2))                                                        # Median                   1\n",
    "    lists[n].append(dst.std().round(2))                                                             # Standard Deviation       2\n",
    "    lists[n].append(scipy.stats.skew(dst).round(2))                                                 # Skewness                 3\n",
    "    lists[n].append(scipy.stats.kurtosis(dst).round(2))                                             # Kurtosis                 4\n",
    "    lists[n].append(np.quantile(dst, 0.25).round(2))                                                # Q1                       5\n",
    "    lists[n].append(np.quantile(dst, 0.75).round(2))                                                # Q3                       6\n",
    "    lists[n].append(scipy.stats.iqr(dst).round(2))                                                  # IQR                      7\n",
    "    lists[n].append(lists[n][6] + (1.5*lists[n][7]))                                                # Upper bound              8\n",
    "    lists[n].append(lists[n][5] - (1.5*lists[n][7]))                                                # Lower bound              9\n",
    "    lists[n].append((len(dst[(dst < lists[n][9]) | (dst > lists[n][8])]) / len(dst)).__round__(2))  # Outlier                  10"
   ]
  },
  {
   "cell_type": "code",
   "execution_count": 77,
   "id": "1c6af9e1e5761b21",
   "metadata": {
    "ExecuteTime": {
     "end_time": "2024-05-07T13:59:22.220250Z",
     "start_time": "2024-05-07T13:59:22.215897Z"
    },
    "collapsed": false
   },
   "outputs": [
    {
     "data": {
      "text/plain": [
       "[22298.45,\n",
       " 15000.0,\n",
       " 24386.2,\n",
       " 3.33,\n",
       " 14.63,\n",
       " 8800.0,\n",
       " 25000.0,\n",
       " 16200.0,\n",
       " 49300.0,\n",
       " -15500.0,\n",
       " 0.09]"
      ]
     },
     "execution_count": 77,
     "metadata": {},
     "output_type": "execute_result"
    }
   ],
   "source": [
    "prc_lst"
   ]
  },
  {
   "cell_type": "code",
   "execution_count": 78,
   "id": "5ef3af479db2dcf",
   "metadata": {
    "ExecuteTime": {
     "end_time": "2024-05-07T14:00:31.128040Z",
     "start_time": "2024-05-07T14:00:31.123530Z"
    },
    "collapsed": false
   },
   "outputs": [],
   "source": [
    "stats = pd.DataFrame()\n",
    "\n",
    "stats['Category'] = ['Mean', 'Median', 'Std', 'Skew', 'Kurtosis', 'Q1', 'Q3', 'IQR', 'Upper bound', 'Lower bound', 'Outlier%']\n",
    "stats['Price'] = lists[0]\n",
    "stats['Sell Count'] = lists[1]\n",
    "stats['Rating'] = lists[2]"
   ]
  },
  {
   "cell_type": "code",
   "execution_count": 79,
   "id": "4b66c4ea1d57ede3",
   "metadata": {
    "ExecuteTime": {
     "end_time": "2024-05-07T14:00:34.384144Z",
     "start_time": "2024-05-07T14:00:34.377059Z"
    },
    "collapsed": false
   },
   "outputs": [
    {
     "data": {
      "text/html": [
       "<div>\n",
       "<style scoped>\n",
       "    .dataframe tbody tr th:only-of-type {\n",
       "        vertical-align: middle;\n",
       "    }\n",
       "\n",
       "    .dataframe tbody tr th {\n",
       "        vertical-align: top;\n",
       "    }\n",
       "\n",
       "    .dataframe thead th {\n",
       "        text-align: right;\n",
       "    }\n",
       "</style>\n",
       "<table border=\"1\" class=\"dataframe\">\n",
       "  <thead>\n",
       "    <tr style=\"text-align: right;\">\n",
       "      <th></th>\n",
       "      <th>Category</th>\n",
       "      <th>Price</th>\n",
       "      <th>Sell Count</th>\n",
       "      <th>Rating</th>\n",
       "    </tr>\n",
       "  </thead>\n",
       "  <tbody>\n",
       "    <tr>\n",
       "      <th>0</th>\n",
       "      <td>Mean</td>\n",
       "      <td>22298.45</td>\n",
       "      <td>369.47</td>\n",
       "      <td>4.88</td>\n",
       "    </tr>\n",
       "    <tr>\n",
       "      <th>1</th>\n",
       "      <td>Median</td>\n",
       "      <td>15000.00</td>\n",
       "      <td>70.00</td>\n",
       "      <td>4.90</td>\n",
       "    </tr>\n",
       "    <tr>\n",
       "      <th>2</th>\n",
       "      <td>Std</td>\n",
       "      <td>24386.20</td>\n",
       "      <td>1089.19</td>\n",
       "      <td>0.17</td>\n",
       "    </tr>\n",
       "    <tr>\n",
       "      <th>3</th>\n",
       "      <td>Skew</td>\n",
       "      <td>3.33</td>\n",
       "      <td>6.33</td>\n",
       "      <td>-4.07</td>\n",
       "    </tr>\n",
       "    <tr>\n",
       "      <th>4</th>\n",
       "      <td>Kurtosis</td>\n",
       "      <td>14.63</td>\n",
       "      <td>47.19</td>\n",
       "      <td>29.98</td>\n",
       "    </tr>\n",
       "    <tr>\n",
       "      <th>5</th>\n",
       "      <td>Q1</td>\n",
       "      <td>8800.00</td>\n",
       "      <td>23.00</td>\n",
       "      <td>4.80</td>\n",
       "    </tr>\n",
       "    <tr>\n",
       "      <th>6</th>\n",
       "      <td>Q3</td>\n",
       "      <td>25000.00</td>\n",
       "      <td>250.00</td>\n",
       "      <td>5.00</td>\n",
       "    </tr>\n",
       "    <tr>\n",
       "      <th>7</th>\n",
       "      <td>IQR</td>\n",
       "      <td>16200.00</td>\n",
       "      <td>227.00</td>\n",
       "      <td>0.20</td>\n",
       "    </tr>\n",
       "    <tr>\n",
       "      <th>8</th>\n",
       "      <td>Upper bound</td>\n",
       "      <td>49300.00</td>\n",
       "      <td>590.50</td>\n",
       "      <td>5.30</td>\n",
       "    </tr>\n",
       "    <tr>\n",
       "      <th>9</th>\n",
       "      <td>Lower bound</td>\n",
       "      <td>-15500.00</td>\n",
       "      <td>-317.50</td>\n",
       "      <td>4.50</td>\n",
       "    </tr>\n",
       "    <tr>\n",
       "      <th>10</th>\n",
       "      <td>Outlier%</td>\n",
       "      <td>0.09</td>\n",
       "      <td>0.14</td>\n",
       "      <td>0.03</td>\n",
       "    </tr>\n",
       "  </tbody>\n",
       "</table>\n",
       "</div>"
      ],
      "text/plain": [
       "       Category     Price  Sell Count  Rating\n",
       "0          Mean  22298.45      369.47    4.88\n",
       "1        Median  15000.00       70.00    4.90\n",
       "2           Std  24386.20     1089.19    0.17\n",
       "3          Skew      3.33        6.33   -4.07\n",
       "4      Kurtosis     14.63       47.19   29.98\n",
       "5            Q1   8800.00       23.00    4.80\n",
       "6            Q3  25000.00      250.00    5.00\n",
       "7           IQR  16200.00      227.00    0.20\n",
       "8   Upper bound  49300.00      590.50    5.30\n",
       "9   Lower bound -15500.00     -317.50    4.50\n",
       "10     Outlier%      0.09        0.14    0.03"
      ]
     },
     "execution_count": 79,
     "metadata": {},
     "output_type": "execute_result"
    }
   ],
   "source": [
    "stats"
   ]
  },
  {
   "cell_type": "markdown",
   "id": "7486c954f9326621",
   "metadata": {
    "collapsed": false
   },
   "source": [
    "## Nomer 1\n",
    "\n",
    "Dari data yang didapat, dapat diambil beberapa kesimpulan:\n",
    "* Untuk harga dan jumlah terjual mean > median, maka kedua distribusi tersebut merupakan positively skewed, namun untuk rating median lebih besar daripada mean, maka dari itu distribusi rating merupakan negatively skewed.\n",
    "* Untuk distribusi harga & jumlah terjual, nilai standard deviasi lebih dari mean, hal ini berarti data dari distribusi harga & jumlah terjual cukup terpencar (spread out).\n",
    "* Karena semua distribusi memiliki skew diatas |±1|, maka dapat dikategorikan kalau skewness dari ketiga distribusi ini adalah highly skewed.\n",
    "* Untuk nilai kurtosis ketiga distribusi ini > 0, maka termasuk kedalam leptokurtic.\n",
    "* Nilai outlier yang paling besar ada di distribusi jumlah terjual di angka 14%, sedangkan untuk harga & rating masing - masing diangka 9% dan 3%"
   ]
  },
  {
   "cell_type": "markdown",
   "id": "73c87d6c1cf9825f",
   "metadata": {
    "collapsed": false
   },
   "source": [
    "## Nomer 2"
   ]
  },
  {
   "cell_type": "code",
   "execution_count": 88,
   "id": "bf0461c650890788",
   "metadata": {
    "ExecuteTime": {
     "end_time": "2024-05-07T14:32:06.013383Z",
     "start_time": "2024-05-07T14:32:06.002372Z"
    },
    "collapsed": false
   },
   "outputs": [],
   "source": [
    "min,max = scipy.stats.norm.interval(0.95, loc=price_dist.mean(), scale=prc_lst[2] / np.sqrt(len(price_dist)))"
   ]
  },
  {
   "cell_type": "code",
   "execution_count": 93,
   "id": "cb0523bf8f9025b5",
   "metadata": {
    "ExecuteTime": {
     "end_time": "2024-05-07T14:35:28.250202Z",
     "start_time": "2024-05-07T14:35:28.235924Z"
    },
    "collapsed": false
   },
   "outputs": [
    {
     "name": "stdout",
     "output_type": "stream",
     "text": [
      "Min : 20875.97\n",
      "Max : 23720.92\n"
     ]
    }
   ],
   "source": [
    "print(f\"Min : {min:.2f}\")\n",
    "print(f\"Max : {max:.2f}\")"
   ]
  },
  {
   "cell_type": "markdown",
   "id": "28961a299e5c75ba",
   "metadata": {
    "collapsed": false
   },
   "source": [
    "Dari sini kita bisa mengetahui potensi minimum pendapatan adalah Rp20.875,97 dan potensi maximum adalah Rp23.720,92"
   ]
  },
  {
   "cell_type": "markdown",
   "id": "4008109596fe8a6a",
   "metadata": {
    "collapsed": false
   },
   "source": [
    "## Nomer 3"
   ]
  },
  {
   "cell_type": "markdown",
   "id": "643ce9a9b0e2e110",
   "metadata": {
    "collapsed": false
   },
   "source": [
    "**H0 : Harga Jabodetabek = Harga Luar Kota**\n",
    "**H1 : Harga Jabodetabek != Harga Luar Kota**"
   ]
  },
  {
   "cell_type": "code",
   "execution_count": 124,
   "id": "5e83c3220b3fea20",
   "metadata": {
    "ExecuteTime": {
     "end_time": "2024-05-07T15:07:00.903385Z",
     "start_time": "2024-05-07T15:07:00.884642Z"
    },
    "collapsed": false
   },
   "outputs": [],
   "source": [
    "jabod = ['Jakarta Pusat', 'Jakarta Barat', 'Jakarta Timur', 'Jakarta Selatan', 'Jakarta Utara', 'Bogor', 'Depok', 'Tangerang', 'Tangerang Selatan', 'Bekasi']\n",
    "\n",
    "price_jabod = df[df['City'].isin(jabod)]['Price'] # Yang masuk kawasan jabodetabek\n",
    "price_lukot = df[~df['City'].isin(jabod)]['Price']  # yang masuk kawasan luar kota\n"
   ]
  },
  {
   "cell_type": "markdown",
   "id": "bbdc07163cb5204b",
   "metadata": {
    "collapsed": false
   },
   "source": []
  },
  {
   "cell_type": "code",
   "execution_count": 125,
   "id": "585be862c05c13e9",
   "metadata": {
    "ExecuteTime": {
     "end_time": "2024-05-07T15:07:02.697577Z",
     "start_time": "2024-05-07T15:07:02.690898Z"
    },
    "collapsed": false
   },
   "outputs": [
    {
     "name": "stdout",
     "output_type": "stream",
     "text": [
      "Retention rate of Price Jabodetabek: 23861.11\n",
      "Retention rate of Price Luar Kota: 21167.6\n"
     ]
    }
   ],
   "source": [
    "print('Retention rate of Price Jabodetabek:',(price_jabod.sum()/len(price_jabod)).__round__(2))\n",
    "print('Retention rate of Price Luar Kota:',(price_lukot.sum()/len(price_lukot)).__round__(2))"
   ]
  },
  {
   "cell_type": "code",
   "execution_count": 151,
   "id": "533ac2da5067a546",
   "metadata": {
    "ExecuteTime": {
     "end_time": "2024-05-07T15:13:48.490086Z",
     "start_time": "2024-05-07T15:13:48.482315Z"
    },
    "collapsed": false
   },
   "outputs": [
    {
     "name": "stdout",
     "output_type": "stream",
     "text": [
      "P-value: 0.2\n"
     ]
    }
   ],
   "source": [
    "t_stat,p_val = scipy.stats.ttest_rel(price_jabod.sample(474),price_lukot.sample(474)) # 474 diambil dari length harga jabodetabek\n",
    "print('P-value:',p_val.round(2)) # print p-value"
   ]
  },
  {
   "cell_type": "markdown",
   "id": "444ceab9a1a7bb4f",
   "metadata": {
    "collapsed": false
   },
   "source": [
    "Karena p-value diatas 0.05, maka H0 (Harga Jabodetabek = Harga Luar Kota) diterima"
   ]
  },
  {
   "cell_type": "markdown",
   "id": "b89e55ad586c2eff",
   "metadata": {
    "collapsed": false
   },
   "source": [
    "## Nomer 4"
   ]
  },
  {
   "cell_type": "code",
   "execution_count": 156,
   "id": "ac9cf3109b7bdac2",
   "metadata": {
    "ExecuteTime": {
     "end_time": "2024-05-07T15:49:45.934905Z",
     "start_time": "2024-05-07T15:49:45.911894Z"
    },
    "collapsed": false
   },
   "outputs": [
    {
     "name": "stdout",
     "output_type": "stream",
     "text": [
      "rho-correlation: -0.05, p-value: 0.09850708808908214\n"
     ]
    }
   ],
   "source": [
    "corr_rho, pval_s = scipy.stats.spearmanr(df['Price'], df['Sell Count'])\n",
    "print(f\"rho-correlation: {corr_rho:.2f}, p-value: {pval_s}\")"
   ]
  },
  {
   "cell_type": "markdown",
   "id": "9dae37dca07b223",
   "metadata": {
    "collapsed": false
   },
   "source": [
    "Karena p-value > 0.05, maka bisa dibilang bahwa korelasi antara harga dan jumlah terjual adalah kebetulan."
   ]
  },
  {
   "cell_type": "markdown",
   "id": "9b1d2b509ff1c483",
   "metadata": {
    "collapsed": false
   },
   "source": [
    "## Konklusi"
   ]
  },
  {
   "cell_type": "markdown",
   "id": "79c54a030d27a6e6",
   "metadata": {
    "collapsed": false
   },
   "source": [
    "* Nilai outlier dari dataset yang didapat pada harga, jumlah terjual dan rating adalah masing - masing 9%, 14% dan 3%\n",
    "* Dari dataset yang sudah di-scrap, distribusi harga dan jumlah terjual memiliki nilai yang terpencar (spread out)\n",
    "* Sebaiknya penjual seblak menjual seblak di range harga Rp20.875,97 sampai Rp23.720.92\n",
    "* Harga seblak yang dijual di Jabodetabek sama dengan harga seblak yang dijual di luar kota.\n",
    "* Meskipun hipotesa awal mengatakan kalau ada kemungkinan bila harga murah maka barang akan terjual dalam jumlah yang banyak, hasil dari uji korelasi mengatakan sebaliknya."
   ]
  },
  {
   "cell_type": "code",
   "execution_count": null,
   "id": "6a32241edd8a044c",
   "metadata": {
    "collapsed": false
   },
   "outputs": [],
   "source": []
  }
 ],
 "metadata": {
  "kernelspec": {
   "display_name": "Python 3",
   "language": "python",
   "name": "python3"
  },
  "language_info": {
   "codemirror_mode": {
    "name": "ipython",
    "version": 2
   },
   "file_extension": ".py",
   "mimetype": "text/x-python",
   "name": "python",
   "nbconvert_exporter": "python",
   "pygments_lexer": "ipython2",
   "version": "2.7.6"
  }
 },
 "nbformat": 4,
 "nbformat_minor": 5
}
